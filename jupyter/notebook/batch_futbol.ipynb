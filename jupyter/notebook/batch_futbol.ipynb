{
 "cells": [
  {
   "cell_type": "code",
   "execution_count": 1,
   "metadata": {},
   "outputs": [],
   "source": [
    "import findspark\n",
    "\n",
    "findspark.add_jars('/app/postgresql-42.1.4.jar')\n",
    "findspark.init()"
   ]
  },
  {
   "cell_type": "code",
   "execution_count": 2,
   "metadata": {},
   "outputs": [],
   "source": [
    "from pyspark.sql import SparkSession\n",
    "from pyspark.sql.functions import when,col\n",
    "spark = (\n",
    "    SparkSession.builder\n",
    "    .appName(\"Stocks:ETL\")\n",
    "    .config(\"spark.driver.memory\", \"512m\")\n",
    "    .config(\"spa|rk.driver.cores\", \"1\")\n",
    "    .config(\"spark.executor.memory\", \"512m\")\n",
    "    .config(\"spark.executor.cores\", \"1\")\n",
    "    .config(\"spark.sql.shuffle.partitions\", \"2\")\n",
    "    .getOrCreate()\n",
    ")"
   ]
  },
  {
   "cell_type": "code",
   "execution_count": 3,
   "metadata": {},
   "outputs": [
    {
     "data": {
      "text/plain": [
       "'2.4.5'"
      ]
     },
     "execution_count": 3,
     "metadata": {},
     "output_type": "execute_result"
    }
   ],
   "source": [
    "spark.version"
   ]
  },
  {
   "cell_type": "code",
   "execution_count": 4,
   "metadata": {},
   "outputs": [],
   "source": [
    "futbol_dir = '/dataset/futbol'"
   ]
  },
  {
   "cell_type": "code",
   "execution_count": 5,
   "metadata": {},
   "outputs": [],
   "source": [
    "import sys\n",
    "\n",
    "from pyspark.sql import SparkSession\n",
    "\n",
    "# UDF\n",
    "from pyspark.sql.types import StringType\n",
    "#\n",
    "from pyspark.sql import functions as F\n",
    "from pyspark.sql.window import Window"
   ]
  },
  {
   "cell_type": "code",
   "execution_count": 6,
   "metadata": {},
   "outputs": [],
   "source": [
    "import logging\n",
    "logging.basicConfig(\n",
    "    level=logging.INFO,\n",
    "    format='%(asctime)s-%(name)s-%(levelname)s: %(message)s',\n",
    "    handlers=[logging.FileHandler('/dataset/seleccion.log'), logging.StreamHandler()],\n",
    ")\n",
    "logger = logging.getLogger(__name__)"
   ]
  },
  {
   "cell_type": "code",
   "execution_count": 7,
   "metadata": {},
   "outputs": [],
   "source": [
    "df = spark.read \\\n",
    "    .option(\"header\", True) \\\n",
    "    .option(\"inferSchema\", True) \\\n",
    "    .csv(futbol_dir)"
   ]
  },
  {
   "cell_type": "code",
   "execution_count": 8,
   "metadata": {},
   "outputs": [
    {
     "name": "stdout",
     "output_type": "stream",
     "text": [
      "root\n",
      " |-- Rk: integer (nullable = true)\n",
      " |-- Player: string (nullable = true)\n",
      " |-- Nation: string (nullable = true)\n",
      " |-- Pos: string (nullable = true)\n",
      " |-- Squad: string (nullable = true)\n",
      " |-- Comp: string (nullable = true)\n",
      " |-- Age: integer (nullable = true)\n",
      " |-- Born: integer (nullable = true)\n",
      " |-- MP: integer (nullable = true)\n",
      " |-- Starts: integer (nullable = true)\n",
      " |-- Min: integer (nullable = true)\n",
      " |-- 90s: double (nullable = true)\n",
      " |-- Goals: double (nullable = true)\n",
      " |-- Shots: double (nullable = true)\n",
      " |-- SoT: double (nullable = true)\n",
      " |-- SoT%: double (nullable = true)\n",
      " |-- G/Sh: double (nullable = true)\n",
      " |-- G/SoT: double (nullable = true)\n",
      " |-- ShoDist: double (nullable = true)\n",
      " |-- ShoFK: double (nullable = true)\n",
      " |-- ShoPK: double (nullable = true)\n",
      " |-- PKatt: double (nullable = true)\n",
      " |-- PasTotCmp: double (nullable = true)\n",
      " |-- PasTotAtt: double (nullable = true)\n",
      " |-- PasTotCmp%: double (nullable = true)\n",
      " |-- PasTotDist: double (nullable = true)\n",
      " |-- PasTotPrgDist: double (nullable = true)\n",
      " |-- PasShoCmp: double (nullable = true)\n",
      " |-- PasShoAtt: double (nullable = true)\n",
      " |-- PasShoCmp%: double (nullable = true)\n",
      " |-- PasMedCmp: double (nullable = true)\n",
      " |-- PasMedAtt: double (nullable = true)\n",
      " |-- PasMedCmp%: double (nullable = true)\n",
      " |-- PasLonCmp: double (nullable = true)\n",
      " |-- PasLonAtt: double (nullable = true)\n",
      " |-- PasLonCmp%: double (nullable = true)\n",
      " |-- Assists: double (nullable = true)\n",
      " |-- PasAss: double (nullable = true)\n",
      " |-- Pas3rd: double (nullable = true)\n",
      " |-- PPA: double (nullable = true)\n",
      " |-- CrsPA: double (nullable = true)\n",
      " |-- PasProg: double (nullable = true)\n",
      " |-- PasAtt: double (nullable = true)\n",
      " |-- PasLive: double (nullable = true)\n",
      " |-- PasDead: double (nullable = true)\n",
      " |-- PasFK: double (nullable = true)\n",
      " |-- TB: double (nullable = true)\n",
      " |-- PasPress: double (nullable = true)\n",
      " |-- Sw: double (nullable = true)\n",
      " |-- PasCrs: double (nullable = true)\n",
      " |-- CK: double (nullable = true)\n",
      " |-- CkIn: double (nullable = true)\n",
      " |-- CkOut: double (nullable = true)\n",
      " |-- CkStr: double (nullable = true)\n",
      " |-- PasGround: double (nullable = true)\n",
      " |-- PasLow: double (nullable = true)\n",
      " |-- PasHigh: double (nullable = true)\n",
      " |-- PaswLeft: double (nullable = true)\n",
      " |-- PaswRight: double (nullable = true)\n",
      " |-- PaswHead: double (nullable = true)\n",
      " |-- TI: double (nullable = true)\n",
      " |-- PaswOther: double (nullable = true)\n",
      " |-- PasCmp: double (nullable = true)\n",
      " |-- PasOff: double (nullable = true)\n",
      " |-- PasOut: double (nullable = true)\n",
      " |-- PasInt: double (nullable = true)\n",
      " |-- PasBlocks: double (nullable = true)\n",
      " |-- SCA: double (nullable = true)\n",
      " |-- ScaPassLive: double (nullable = true)\n",
      " |-- ScaPassDead: double (nullable = true)\n",
      " |-- ScaDrib: double (nullable = true)\n",
      " |-- ScaSh: double (nullable = true)\n",
      " |-- ScaFld: double (nullable = true)\n",
      " |-- ScaDef: double (nullable = true)\n",
      " |-- GCA: double (nullable = true)\n",
      " |-- GcaPassLive: double (nullable = true)\n",
      " |-- GcaPassDead: double (nullable = true)\n",
      " |-- GcaDrib: double (nullable = true)\n",
      " |-- GcaSh: double (nullable = true)\n",
      " |-- GcaFld: double (nullable = true)\n",
      " |-- GcaDef: double (nullable = true)\n",
      " |-- Tkl: double (nullable = true)\n",
      " |-- TklWon: double (nullable = true)\n",
      " |-- TklDef3rd: double (nullable = true)\n",
      " |-- TklMid3rd: double (nullable = true)\n",
      " |-- TklAtt3rd: double (nullable = true)\n",
      " |-- TklDri: double (nullable = true)\n",
      " |-- TklDriAtt: double (nullable = true)\n",
      " |-- TklDri%: double (nullable = true)\n",
      " |-- TklDriPast: double (nullable = true)\n",
      " |-- Press: double (nullable = true)\n",
      " |-- PresSucc: double (nullable = true)\n",
      " |-- Press%: double (nullable = true)\n",
      " |-- PresDef3rd: double (nullable = true)\n",
      " |-- PresMid3rd: double (nullable = true)\n",
      " |-- PresAtt3rd: double (nullable = true)\n",
      " |-- Blocks: double (nullable = true)\n",
      " |-- BlkSh: double (nullable = true)\n",
      " |-- BlkShSv: double (nullable = true)\n",
      " |-- BlkPass: double (nullable = true)\n",
      " |-- Int: double (nullable = true)\n",
      " |-- Tkl+Int: double (nullable = true)\n",
      " |-- Clr: double (nullable = true)\n",
      " |-- Err: double (nullable = true)\n",
      " |-- Touches: double (nullable = true)\n",
      " |-- TouDefPen: double (nullable = true)\n",
      " |-- TouDef3rd: double (nullable = true)\n",
      " |-- TouMid3rd: double (nullable = true)\n",
      " |-- TouAtt3rd: double (nullable = true)\n",
      " |-- TouAttPen: double (nullable = true)\n",
      " |-- TouLive: double (nullable = true)\n",
      " |-- DriSucc: double (nullable = true)\n",
      " |-- DriAtt: double (nullable = true)\n",
      " |-- DriSucc%: double (nullable = true)\n",
      " |-- DriPast: double (nullable = true)\n",
      " |-- DriMegs: double (nullable = true)\n",
      " |-- Carries: double (nullable = true)\n",
      " |-- CarTotDist: double (nullable = true)\n",
      " |-- CarPrgDist: double (nullable = true)\n",
      " |-- CarProg: double (nullable = true)\n",
      " |-- Car3rd: double (nullable = true)\n",
      " |-- CPA: double (nullable = true)\n",
      " |-- CarMis: double (nullable = true)\n",
      " |-- CarDis: double (nullable = true)\n",
      " |-- RecTarg: double (nullable = true)\n",
      " |-- Rec: double (nullable = true)\n",
      " |-- Rec%: double (nullable = true)\n",
      " |-- RecProg: double (nullable = true)\n",
      " |-- CrdY: double (nullable = true)\n",
      " |-- CrdR: double (nullable = true)\n",
      " |-- 2CrdY: double (nullable = true)\n",
      " |-- Fls: double (nullable = true)\n",
      " |-- Fld: double (nullable = true)\n",
      " |-- Off: double (nullable = true)\n",
      " |-- Crs: double (nullable = true)\n",
      " |-- TklW: double (nullable = true)\n",
      " |-- PKwon: double (nullable = true)\n",
      " |-- PKcon: double (nullable = true)\n",
      " |-- OG: double (nullable = true)\n",
      " |-- Recov: double (nullable = true)\n",
      " |-- AerWon: double (nullable = true)\n",
      " |-- AerLost: double (nullable = true)\n",
      " |-- AerWon%: double (nullable = true)\n",
      "\n"
     ]
    }
   ],
   "source": [
    "df.count()\n",
    "df.printSchema()"
   ]
  },
  {
   "cell_type": "code",
   "execution_count": 9,
   "metadata": {},
   "outputs": [],
   "source": [
    "#armo DF solo con argentina (luego armar con otros paises para generar comparaciones)\n",
    "df_arg = df.filter(df.Nation == \"ARG\")"
   ]
  },
  {
   "cell_type": "code",
   "execution_count": 10,
   "metadata": {},
   "outputs": [
    {
     "data": {
      "text/plain": [
       "64"
      ]
     },
     "execution_count": 10,
     "metadata": {},
     "output_type": "execute_result"
    }
   ],
   "source": [
    "#cantidad de jugadores argentinos en el dataset europeo\n",
    "df_arg.count()"
   ]
  },
  {
   "cell_type": "code",
   "execution_count": 11,
   "metadata": {},
   "outputs": [
    {
     "name": "stdout",
     "output_type": "stream",
     "text": [
      "+--------------+-----+\n",
      "|          Comp|count|\n",
      "+--------------+-----+\n",
      "|    Bundesliga|    2|\n",
      "|       La Liga|   31|\n",
      "|       Ligue 1|    5|\n",
      "|Premier League|    8|\n",
      "|       Serie A|   18|\n",
      "+--------------+-----+\n",
      "\n"
     ]
    }
   ],
   "source": [
    "#Distribucion cantidad de jugadores argentinos segun ligas europeas\n",
    "df_arg.groupby('Comp').count().orderBy('Comp').show()"
   ]
  },
  {
   "cell_type": "code",
   "execution_count": 12,
   "metadata": {},
   "outputs": [
    {
     "name": "stdout",
     "output_type": "stream",
     "text": [
      "+--------------------+-----+\n",
      "|              Player|Goals|\n",
      "+--------------------+-----+\n",
      "|    Giovanni Simeone| 1.33|\n",
      "|      Juli�n �lvarez| 0.83|\n",
      "|        Paulo Dybala| 0.78|\n",
      "|        �ngel Correa| 0.77|\n",
      "|      Joaqu�n Correa| 0.63|\n",
      "|    Lautaro Mart�nez| 0.59|\n",
      "|        Lionel Messi| 0.56|\n",
      "|    Nicol�s Gonz�lez| 0.48|\n",
      "|      �ngel Di Mar�a| 0.48|\n",
      "|      Ezequiel �vila| 0.45|\n",
      "|      Ezequiel Ponce| 0.43|\n",
      "|        Lucas Alario| 0.42|\n",
      "|         �rik Lamela| 0.39|\n",
      "| Alexis Mac Allister| 0.36|\n",
      "|   Exequiel Palacios| 0.26|\n",
      "|Valent�n Castellanos|  0.2|\n",
      "|     Rodrigo De Paul| 0.19|\n",
      "|          Lucas Boy�| 0.18|\n",
      "|         Emi Buend�a| 0.18|\n",
      "|    Giovani Lo Celso| 0.18|\n",
      "+--------------------+-----+\n",
      "only showing top 20 rows\n",
      "\n"
     ]
    }
   ],
   "source": [
    "\n",
    "df_arg.select('Player','Goals').orderBy('Goals', ascending = [False]).show()"
   ]
  },
  {
   "cell_type": "code",
   "execution_count": 13,
   "metadata": {},
   "outputs": [
    {
     "name": "stdout",
     "output_type": "stream",
     "text": [
      "+----+-----+\n",
      "| Pos|count|\n",
      "+----+-----+\n",
      "|  DF|   19|\n",
      "|DFFW|    1|\n",
      "|DFMF|    2|\n",
      "|  FW|    9|\n",
      "|FWDF|    1|\n",
      "|FWMF|    4|\n",
      "|  GK|    6|\n",
      "|  MF|   14|\n",
      "|MFFW|    8|\n",
      "+----+-----+\n",
      "\n"
     ]
    }
   ],
   "source": [
    "#Jugadoers Argentinos en el dataset, cantidad por posicion de juego.\n",
    "df_arg.groupby('Pos').count().orderBy('Pos').show()\n"
   ]
  },
  {
   "cell_type": "code",
   "execution_count": 14,
   "metadata": {},
   "outputs": [],
   "source": [
    "#Armo  DF con solo los delanteros\n",
    "df_arg_del=df_arg.where((df_arg.Pos == 'FW') | (df_arg.Pos == 'FWMF')| (df_arg.Pos == 'MFFW'))"
   ]
  },
  {
   "cell_type": "code",
   "execution_count": 15,
   "metadata": {},
   "outputs": [
    {
     "name": "stdout",
     "output_type": "stream",
     "text": [
      "+--------------------+----+-----+\n",
      "|              Player| Pos|Goals|\n",
      "+--------------------+----+-----+\n",
      "|    Giovanni Simeone|  FW| 1.33|\n",
      "|      Juli�n �lvarez|  FW| 0.83|\n",
      "|        Paulo Dybala|MFFW| 0.78|\n",
      "|        �ngel Correa|FWMF| 0.77|\n",
      "|      Joaqu�n Correa|  FW| 0.63|\n",
      "|    Lautaro Mart�nez|  FW| 0.59|\n",
      "|        Lionel Messi|MFFW| 0.56|\n",
      "|    Nicol�s Gonz�lez|FWMF| 0.48|\n",
      "|      �ngel Di Mar�a|FWMF| 0.48|\n",
      "|      Ezequiel �vila|FWMF| 0.45|\n",
      "|      Ezequiel Ponce|  FW| 0.43|\n",
      "|        Lucas Alario|  FW| 0.42|\n",
      "|         �rik Lamela|  FW| 0.39|\n",
      "|Valent�n Castellanos|  FW|  0.2|\n",
      "|          Lucas Boy�|  FW| 0.18|\n",
      "|         Emi Buend�a|MFFW| 0.18|\n",
      "|    Giovani Lo Celso|MFFW| 0.18|\n",
      "|   Nicol�s Dom�nguez|MFFW| 0.13|\n",
      "|         �scar Trejo|MFFW| 0.12|\n",
      "|          Papu G�mez|MFFW|  0.0|\n",
      "+--------------------+----+-----+\n",
      "only showing top 20 rows\n",
      "\n"
     ]
    },
    {
     "data": {
      "text/plain": [
       "21"
      ]
     },
     "execution_count": 15,
     "metadata": {},
     "output_type": "execute_result"
    }
   ],
   "source": [
    "#Orden de Jugadores Argentinos segun orden Goles x partido\n",
    "df_arg_del.select('Player','Pos','Goals').orderBy('Goals', ascending = [False]).show()\n",
    "#cantidad de jugadores argentinos como delanteros\n",
    "df_arg_del.count()"
   ]
  },
  {
   "cell_type": "code",
   "execution_count": 16,
   "metadata": {},
   "outputs": [],
   "source": [
    "#correccion ortografica\n",
    "df_arg_del = df_arg_del.withColumn('Player', when(df_arg_del['Player'] == '�ngel Correa', 'Angel Correa')\n",
    "                                            .when(df_arg_del['Player'] == 'Juli�n �lvarez', 'Julian Alvarez')\n",
    "                                            .when(df_arg_del['Player'] == 'Joaqu�n Correa', 'Joaquin Correa')\n",
    "                                            .when(df_arg_del['Player'] == 'Lautaro Mart�nez', 'Lautaro Martinez')\n",
    "                                            .when(df_arg_del['Player'] == '�ngel Di Mar�a', 'Angel Di Maria')\n",
    "                                            .when(df_arg_del['Player'] == 'Nicol�s Gonz�lez', 'Nicolas Gonzalez')\n",
    "                                            .when(df_arg_del['Player'] == 'Ezequiel �vila', 'Ezequiel Avila')\n",
    "                                            .when(df_arg_del['Player'] == '�rik Lamela', 'Erik Lamela')\n",
    "                                            .when(df_arg_del['Player'] == 'Valent�n Castellanos', 'Valentin Castellanos')\n",
    "                                            .when(df_arg_del['Player'] == 'Lucas Boy�', 'Lucas Boye')\n",
    "                                            .when(df_arg_del['Player'] == 'Nicol�s Dom�nguez', 'Nicolas Dominguez')\n",
    "                                            .when(df_arg_del['Player'] == '�scar Trejo', 'Oscar Trejo')\n",
    "                                            .when(df_arg_del['Player'] == 'Papu G�mez', 'Papu Gomez')\n",
    "                                            .when(df_arg_del['Player'] == 'Emi Buend�a', 'Emiliano Buendia')\n",
    "                                            .otherwise(df_arg_del.Player))"
   ]
  },
  {
   "cell_type": "code",
   "execution_count": 17,
   "metadata": {},
   "outputs": [],
   "source": [
    "#elimino columnas fuera del analisis\n",
    "df_arg_del_reducido = df_arg_del.drop('Nation','Squad','Born','Starts','90s','PasTotAtt','PasShoAtt','PasMedAtt','PasLonAtt','CkIn','CkOut','CkStr',\n",
    "            'TI','PaswOther','AerLost','RecProg','Rec','RecTarg','DriAtt','TouLive','Int')"
   ]
  },
  {
   "cell_type": "code",
   "execution_count": 18,
   "metadata": {},
   "outputs": [],
   "source": [
    "#cargo en nuevo DF el csv con los preseleccionados argentinos\n",
    "df_selecArg = spark.read.csv('/dataset/jugadoresseleccionArgentina.csv', header=True, sep=\";\")\n",
    "#armo segundo DF con solo los delanteros.\n",
    "df_selecArg_del=df_selecArg.where(df_selecArg.Delanteros == 1)"
   ]
  },
  {
   "cell_type": "code",
   "execution_count": 19,
   "metadata": {},
   "outputs": [
    {
     "name": "stdout",
     "output_type": "stream",
     "text": [
      "+------------------+----------+\n",
      "|            Player|Delanteros|\n",
      "+------------------+----------+\n",
      "|      Lionel Messi|         1|\n",
      "|  Lautaro Martinez|         1|\n",
      "|    Angel Di Maria|         1|\n",
      "|    Julian Alvarez|         1|\n",
      "|      Paulo Dybala|         1|\n",
      "|  Nicolas Gonzalez|         1|\n",
      "|      Angel Correa|         1|\n",
      "|    Joaquin Correa|         1|\n",
      "|  Giovanni Simeone|         1|\n",
      "|  Emiliano Buendia|         1|\n",
      "|      Lucas Alario|         1|\n",
      "|Alejandro Garnacho|         1|\n",
      "+------------------+----------+\n",
      "\n"
     ]
    },
    {
     "data": {
      "text/plain": [
       "12"
      ]
     },
     "execution_count": 19,
     "metadata": {},
     "output_type": "execute_result"
    }
   ],
   "source": [
    "#elimino columnas innecesarias.\n",
    "df_selecArg_del_red = df_selecArg_del.drop('Arqueros','Defensores','Mediocampistas')\n",
    "df_selecArg_del_red.show()\n",
    "\n",
    "# 12 jugadores preseleccionados para delanteros\n",
    "df_selecArg_del_red.count()"
   ]
  },
  {
   "cell_type": "code",
   "execution_count": 20,
   "metadata": {},
   "outputs": [],
   "source": [
    "from pyspark.sql.functions import desc"
   ]
  },
  {
   "cell_type": "code",
   "execution_count": 21,
   "metadata": {},
   "outputs": [
    {
     "data": {
      "text/plain": [
       "11"
      ]
     },
     "execution_count": 21,
     "metadata": {},
     "output_type": "execute_result"
    }
   ],
   "source": [
    "#armo un unico dataframe con las estadisticas de los jugadores, segun nombre de jugador \"Player\"\n",
    "df_selecArg_del_data = df_arg_del_reducido.join(df_selecArg_del_red, df_selecArg_del_red.Player == df_arg_del_reducido.Player, 'leftsemi')\n",
    "\n",
    "#once jugadores tienen estadisticas de juego en ligas europeas, queda un jugador sin estadisticas\n",
    "df_selecArg_del_data.count()"
   ]
  },
  {
   "cell_type": "code",
   "execution_count": 22,
   "metadata": {},
   "outputs": [
    {
     "name": "stdout",
     "output_type": "stream",
     "text": [
      "root\n",
      " |-- Rk: integer (nullable = true)\n",
      " |-- Player: string (nullable = true)\n",
      " |-- Pos: string (nullable = true)\n",
      " |-- Comp: string (nullable = true)\n",
      " |-- Age: integer (nullable = true)\n",
      " |-- MP: integer (nullable = true)\n",
      " |-- Min: integer (nullable = true)\n",
      " |-- Goals: double (nullable = true)\n",
      " |-- Shots: double (nullable = true)\n",
      " |-- SoT: double (nullable = true)\n",
      " |-- SoT%: double (nullable = true)\n",
      " |-- G/Sh: double (nullable = true)\n",
      " |-- G/SoT: double (nullable = true)\n",
      " |-- ShoDist: double (nullable = true)\n",
      " |-- ShoFK: double (nullable = true)\n",
      " |-- ShoPK: double (nullable = true)\n",
      " |-- PKatt: double (nullable = true)\n",
      " |-- PasTotCmp: double (nullable = true)\n",
      " |-- PasTotCmp%: double (nullable = true)\n",
      " |-- PasTotDist: double (nullable = true)\n",
      " |-- PasTotPrgDist: double (nullable = true)\n",
      " |-- PasShoCmp: double (nullable = true)\n",
      " |-- PasShoCmp%: double (nullable = true)\n",
      " |-- PasMedCmp: double (nullable = true)\n",
      " |-- PasMedCmp%: double (nullable = true)\n",
      " |-- PasLonCmp: double (nullable = true)\n",
      " |-- PasLonCmp%: double (nullable = true)\n",
      " |-- Assists: double (nullable = true)\n",
      " |-- PasAss: double (nullable = true)\n",
      " |-- Pas3rd: double (nullable = true)\n",
      " |-- PPA: double (nullable = true)\n",
      " |-- CrsPA: double (nullable = true)\n",
      " |-- PasProg: double (nullable = true)\n",
      " |-- PasAtt: double (nullable = true)\n",
      " |-- PasLive: double (nullable = true)\n",
      " |-- PasDead: double (nullable = true)\n",
      " |-- PasFK: double (nullable = true)\n",
      " |-- TB: double (nullable = true)\n",
      " |-- PasPress: double (nullable = true)\n",
      " |-- Sw: double (nullable = true)\n",
      " |-- PasCrs: double (nullable = true)\n",
      " |-- CK: double (nullable = true)\n",
      " |-- PasGround: double (nullable = true)\n",
      " |-- PasLow: double (nullable = true)\n",
      " |-- PasHigh: double (nullable = true)\n",
      " |-- PaswLeft: double (nullable = true)\n",
      " |-- PaswRight: double (nullable = true)\n",
      " |-- PaswHead: double (nullable = true)\n",
      " |-- PasCmp: double (nullable = true)\n",
      " |-- PasOff: double (nullable = true)\n",
      " |-- PasOut: double (nullable = true)\n",
      " |-- PasInt: double (nullable = true)\n",
      " |-- PasBlocks: double (nullable = true)\n",
      " |-- SCA: double (nullable = true)\n",
      " |-- ScaPassLive: double (nullable = true)\n",
      " |-- ScaPassDead: double (nullable = true)\n",
      " |-- ScaDrib: double (nullable = true)\n",
      " |-- ScaSh: double (nullable = true)\n",
      " |-- ScaFld: double (nullable = true)\n",
      " |-- ScaDef: double (nullable = true)\n",
      " |-- GCA: double (nullable = true)\n",
      " |-- GcaPassLive: double (nullable = true)\n",
      " |-- GcaPassDead: double (nullable = true)\n",
      " |-- GcaDrib: double (nullable = true)\n",
      " |-- GcaSh: double (nullable = true)\n",
      " |-- GcaFld: double (nullable = true)\n",
      " |-- GcaDef: double (nullable = true)\n",
      " |-- Tkl: double (nullable = true)\n",
      " |-- TklWon: double (nullable = true)\n",
      " |-- TklDef3rd: double (nullable = true)\n",
      " |-- TklMid3rd: double (nullable = true)\n",
      " |-- TklAtt3rd: double (nullable = true)\n",
      " |-- TklDri: double (nullable = true)\n",
      " |-- TklDriAtt: double (nullable = true)\n",
      " |-- TklDri%: double (nullable = true)\n",
      " |-- TklDriPast: double (nullable = true)\n",
      " |-- Press: double (nullable = true)\n",
      " |-- PresSucc: double (nullable = true)\n",
      " |-- Press%: double (nullable = true)\n",
      " |-- PresDef3rd: double (nullable = true)\n",
      " |-- PresMid3rd: double (nullable = true)\n",
      " |-- PresAtt3rd: double (nullable = true)\n",
      " |-- Blocks: double (nullable = true)\n",
      " |-- BlkSh: double (nullable = true)\n",
      " |-- BlkShSv: double (nullable = true)\n",
      " |-- BlkPass: double (nullable = true)\n",
      " |-- Tkl+Int: double (nullable = true)\n",
      " |-- Clr: double (nullable = true)\n",
      " |-- Err: double (nullable = true)\n",
      " |-- Touches: double (nullable = true)\n",
      " |-- TouDefPen: double (nullable = true)\n",
      " |-- TouDef3rd: double (nullable = true)\n",
      " |-- TouMid3rd: double (nullable = true)\n",
      " |-- TouAtt3rd: double (nullable = true)\n",
      " |-- TouAttPen: double (nullable = true)\n",
      " |-- DriSucc: double (nullable = true)\n",
      " |-- DriSucc%: double (nullable = true)\n",
      " |-- DriPast: double (nullable = true)\n",
      " |-- DriMegs: double (nullable = true)\n",
      " |-- Carries: double (nullable = true)\n",
      " |-- CarTotDist: double (nullable = true)\n",
      " |-- CarPrgDist: double (nullable = true)\n",
      " |-- CarProg: double (nullable = true)\n",
      " |-- Car3rd: double (nullable = true)\n",
      " |-- CPA: double (nullable = true)\n",
      " |-- CarMis: double (nullable = true)\n",
      " |-- CarDis: double (nullable = true)\n",
      " |-- Rec%: double (nullable = true)\n",
      " |-- CrdY: double (nullable = true)\n",
      " |-- CrdR: double (nullable = true)\n",
      " |-- 2CrdY: double (nullable = true)\n",
      " |-- Fls: double (nullable = true)\n",
      " |-- Fld: double (nullable = true)\n",
      " |-- Off: double (nullable = true)\n",
      " |-- Crs: double (nullable = true)\n",
      " |-- TklW: double (nullable = true)\n",
      " |-- PKwon: double (nullable = true)\n",
      " |-- PKcon: double (nullable = true)\n",
      " |-- OG: double (nullable = true)\n",
      " |-- Recov: double (nullable = true)\n",
      " |-- AerWon: double (nullable = true)\n",
      " |-- AerWon%: double (nullable = true)\n",
      "\n"
     ]
    }
   ],
   "source": [
    "df_selecArg_del_data.printSchema()"
   ]
  },
  {
   "cell_type": "code",
   "execution_count": 23,
   "metadata": {},
   "outputs": [],
   "source": [
    "#segunda seleccion de columnas en un nuevo DF, dejo las anteriores en su DF para futuros analisis\n",
    "df_selecArg_metricas = df_selecArg_del_data.select('Player','Age','Goals','SoT','PasTotCmp','PasAss','SCA','DriSucc','GcaDrib','DriPast','GCA','AerWon','PasPress','ShoFK','G/SoT','TB','ShoDist',F.round((df_selecArg_del_data.PasTotPrgDist*0.914),0).alias(\"DistPasesLargos\"))"
   ]
  },
  {
   "cell_type": "code",
   "execution_count": 24,
   "metadata": {},
   "outputs": [
    {
     "name": "stdout",
     "output_type": "stream",
     "text": [
      "root\n",
      " |-- Player: string (nullable = true)\n",
      " |-- Age: integer (nullable = true)\n",
      " |-- Goals: double (nullable = true)\n",
      " |-- Shot2Goal: double (nullable = true)\n",
      " |-- PassesCompleted: double (nullable = true)\n",
      " |-- AsistenciasxEjecucion: double (nullable = true)\n",
      " |-- ShotCreationActions: double (nullable = true)\n",
      " |-- DribblesSuccess: double (nullable = true)\n",
      " |-- DribblesLeadGoal: double (nullable = true)\n",
      " |-- PlayersDribbled: double (nullable = true)\n",
      " |-- GoalCreatingActions: double (nullable = true)\n",
      " |-- AerWon: double (nullable = true)\n",
      " |-- PasPress: double (nullable = true)\n",
      " |-- ShotsFreeKick: double (nullable = true)\n",
      " |-- GoalsXShot: double (nullable = true)\n",
      " |-- PassesthroughDefenders: double (nullable = true)\n",
      " |-- ShoDist: double (nullable = true)\n",
      " |-- DistPasesLargos: double (nullable = true)\n",
      "\n"
     ]
    }
   ],
   "source": [
    "#renombro columnas\n",
    "df_selecArg_metricas = df_selecArg_metricas.withColumnRenamed('SoT','Shot2Goal') \\\n",
    "                            .withColumnRenamed('PasTotCmp','PassesCompleted') \\\n",
    "                            .withColumnRenamed('PasAss','AsistenciasxEjecucion') \\\n",
    "                            .withColumnRenamed('SCA','ShotCreationActions') \\\n",
    "                            .withColumnRenamed('DriSucc','DribblesSuccess') \\\n",
    "                            .withColumnRenamed('GCA','GoalCreatingActions') \\\n",
    "                            .withColumnRenamed('GcaDrib','DribblesLeadGoal') \\\n",
    "                            .withColumnRenamed('DriPast','PlayersDribbled') \\\n",
    "                            .withColumnRenamed('ShoFK','ShotsFreeKick') \\\n",
    "                            .withColumnRenamed('G/SoT','GoalsXShot') \\\n",
    "                            .withColumnRenamed('TB','PassesthroughDefenders')\n",
    "df_selecArg_metricas.printSchema()"
   ]
  },
  {
   "cell_type": "code",
   "execution_count": 25,
   "metadata": {},
   "outputs": [],
   "source": [
    "from pyspark.sql.window import Window\n",
    "\n",
    "from pyspark.sql.functions import monotonically_increasing_id,row_number\n",
    "#agrego un numero de orden no repetido para cada jugador\n",
    "df_selecArg_metricas =df_selecArg_metricas.withColumn(\"NumOrden\",row_number().over(Window.orderBy(monotonically_increasing_id())))"
   ]
  },
  {
   "cell_type": "code",
   "execution_count": 26,
   "metadata": {},
   "outputs": [
    {
     "name": "stdout",
     "output_type": "stream",
     "text": [
      "+----------------+---+-----+---------+---------------+---------------------+-------------------+---------------+----------------+---------------+-------------------+------+--------+-------------+----------+----------------------+-------+---------------+--------+\n",
      "|          Player|Age|Goals|Shot2Goal|PassesCompleted|AsistenciasxEjecucion|ShotCreationActions|DribblesSuccess|DribblesLeadGoal|PlayersDribbled|GoalCreatingActions|AerWon|PasPress|ShotsFreeKick|GoalsXShot|PassesthroughDefenders|ShoDist|DistPasesLargos|NumOrden|\n",
      "+----------------+---+-----+---------+---------------+---------------------+-------------------+---------------+----------------+---------------+-------------------+------+--------+-------------+----------+----------------------+-------+---------------+--------+\n",
      "|    Lucas Alario| 30| 0.42|     0.83|           15.8|                 0.42|               2.08|           0.83|             0.0|           0.83|               0.42|  3.75|    4.58|          0.0|       0.5|                   0.0|   14.3|           24.0|       1|\n",
      "|  Julian Alvarez| 22| 0.83|     1.67|           31.3|                 1.25|               3.75|           1.25|             0.0|           1.25|                0.0|  1.25|    8.33|          0.0|       0.5|                  0.42|   15.1|           68.0|       2|\n",
      "|Emiliano Buendia| 25| 0.18|     0.53|           36.8|                 1.58|               3.33|           1.23|             0.0|           1.23|               0.35|  1.75|    10.2|         0.18|      0.33|                   0.0|   17.5|          166.0|       3|\n",
      "|    Angel Correa| 27| 0.77|     1.28|           21.5|                 1.28|               4.33|           1.54|             0.0|           1.54|               0.26|  0.51|    5.13|          0.0|       0.6|                   0.0|   14.4|           55.0|       4|\n",
      "|  Joaquin Correa| 28| 0.63|     0.94|           16.3|                 0.94|                2.5|           0.63|             0.0|           0.63|               0.63|  1.56|    5.63|          0.0|      0.67|                  0.31|    7.6|           50.0|       5|\n",
      "|  Angel Di Maria| 34| 0.48|     0.48|           21.4|                 0.48|               2.38|            0.0|             0.0|            0.0|               0.48|   0.0|    3.33|          0.0|       1.0|                  0.48|   14.1|          151.0|       6|\n",
      "|    Paulo Dybala| 28| 0.78|     1.25|           34.4|                 3.13|               5.16|           1.41|             0.0|           1.41|               0.31|  0.78|    5.31|         0.16|       0.5|                   0.0|   16.8|          163.0|       7|\n",
      "|Nicolas Gonzalez| 24| 0.48|     0.95|           23.3|                 0.95|               4.29|            1.9|             0.0|            1.9|               0.48|  4.76|    7.62|          0.0|       0.5|                   0.0|   14.7|           84.0|       8|\n",
      "|Lautaro Martinez| 25| 0.59|     1.27|           16.3|                 1.27|               2.75|           0.69|             0.1|           0.69|               0.69|  1.57|    3.82|          0.0|      0.38|                  0.29|   16.0|           48.0|       9|\n",
      "|    Lionel Messi| 35| 0.56|     2.52|           54.1|                  2.9|               6.82|           3.74|            0.19|           3.93|                1.4|  0.19|    7.94|         0.93|      0.22|                  1.31|   16.6|          308.0|      10|\n",
      "|Giovanni Simeone| 27| 1.33|     1.33|           16.0|                  2.0|               3.33|           0.67|             0.0|           0.67|               1.33|   2.0|     6.0|          0.0|       1.0|                   0.0|    7.1|           66.0|      11|\n",
      "+----------------+---+-----+---------+---------------+---------------------+-------------------+---------------+----------------+---------------+-------------------+------+--------+-------------+----------+----------------------+-------+---------------+--------+\n",
      "\n"
     ]
    }
   ],
   "source": [
    "df_selecArg_metricas.show()"
   ]
  },
  {
   "cell_type": "code",
   "execution_count": 27,
   "metadata": {},
   "outputs": [
    {
     "name": "stdout",
     "output_type": "stream",
     "text": [
      "+------------------+-----------------+\n",
      "|      edadpromedio|    promediogoles|\n",
      "+------------------+-----------------+\n",
      "|27.727272727272727|0.640909090909091|\n",
      "+------------------+-----------------+\n",
      "\n"
     ]
    }
   ],
   "source": [
    "#edad promedio de los delanteros y goles promedios por partido\n",
    "from pyspark.sql.functions import avg\n",
    "df_selecArg_metricas.select(avg('Age').alias('edadpromedio'),avg('Goals').alias('promediogoles')).show()"
   ]
  },
  {
   "cell_type": "code",
   "execution_count": 28,
   "metadata": {},
   "outputs": [],
   "source": [
    "# Write to Postgres\n",
    "df_selecArg_metricas \\\n",
    "    .write \\\n",
    "    .format(\"jdbc\") \\\n",
    "    .option(\"url\", \"jdbc:postgresql://postgres/seleccion\") \\\n",
    "    .option(\"dbtable\", \"seleccion.argentina\") \\\n",
    "    .option(\"user\", \"seleccion\") \\\n",
    "    .option(\"password\", \"selecc10n\") \\\n",
    "    .option(\"driver\", \"org.postgresql.Driver\") \\\n",
    "    .mode('append') \\\n",
    "    .save()"
   ]
  },
  {
   "cell_type": "code",
   "execution_count": 37,
   "metadata": {},
   "outputs": [],
   "source": [
    "spark.stop()"
   ]
  }
 ],
 "metadata": {
  "kernelspec": {
   "display_name": "Python 3",
   "language": "python",
   "name": "python3"
  },
  "language_info": {
   "codemirror_mode": {
    "name": "ipython",
    "version": 3
   },
   "file_extension": ".py",
   "mimetype": "text/x-python",
   "name": "python",
   "nbconvert_exporter": "python",
   "pygments_lexer": "ipython3",
   "version": "3.7.3"
  }
 },
 "nbformat": 4,
 "nbformat_minor": 4
}
